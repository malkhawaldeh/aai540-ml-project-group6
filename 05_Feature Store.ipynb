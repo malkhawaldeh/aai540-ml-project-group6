{
 "cells": [
  {
   "cell_type": "code",
   "execution_count": null,
   "id": "cc844ede-99c6-4403-8889-a87e8acf4704",
   "metadata": {},
   "outputs": [],
   "source": [
    "# Define and Create the Feature Group"
   ]
  },
  {
   "cell_type": "code",
   "execution_count": 44,
   "id": "89e9c36e-7db1-409d-893d-0a4f0e423ae8",
   "metadata": {
    "execution": {
     "iopub.execute_input": "2025-06-23T23:35:26.103421Z",
     "iopub.status.busy": "2025-06-23T23:35:26.103033Z",
     "iopub.status.idle": "2025-06-23T23:35:26.230320Z",
     "shell.execute_reply": "2025-06-23T23:35:26.229496Z",
     "shell.execute_reply.started": "2025-06-23T23:35:26.103395Z"
    }
   },
   "outputs": [
    {
     "name": "stdout",
     "output_type": "stream",
     "text": [
      "IAM Role ARN successfully retrieved: arn:aws:iam::564543410445:role/LabRole\n"
     ]
    }
   ],
   "source": [
    "import sagemaker\n",
    "\n",
    "role = sagemaker.get_execution_role()\n",
    "print(f\"IAM Role ARN successfully retrieved: {role}\")"
   ]
  },
  {
   "cell_type": "code",
   "execution_count": null,
   "id": "2277c4b0-5dee-48a0-86e7-a814b0fec598",
   "metadata": {},
   "outputs": [],
   "source": []
  },
  {
   "cell_type": "code",
   "execution_count": 45,
   "id": "36edbf69-fddf-4604-b9b5-f7bdb188be93",
   "metadata": {
    "execution": {
     "iopub.execute_input": "2025-06-23T23:36:00.917831Z",
     "iopub.status.busy": "2025-06-23T23:36:00.917481Z",
     "iopub.status.idle": "2025-06-23T23:36:22.568331Z",
     "shell.execute_reply": "2025-06-23T23:36:22.567548Z",
     "shell.execute_reply.started": "2025-06-23T23:36:00.917809Z"
    }
   },
   "outputs": [
    {
     "name": "stdout",
     "output_type": "stream",
     "text": [
      "Feature Group Name: crime-prediction-datalake-feature-group\n",
      "\n",
      "Creating Feature Group in the SageMaker backend...\n",
      "\n",
      "Waiting for Feature Group to be created (this may take 5-10 minutes)...\n",
      "....✅ Feature Group created successfully.\n"
     ]
    }
   ],
   "source": [
    "from sagemaker.feature_store.feature_group import FeatureGroup\n",
    "import time\n",
    "\n",
    "# Define a unique name for your Feature Group\n",
    "feature_group_name = f\"{project_prefix}-feature-group\"\n",
    "print(f\"Feature Group Name: {feature_group_name}\")\n",
    "\n",
    "# Instantiate the FeatureGroup object\n",
    "feature_group = FeatureGroup(\n",
    "    name=feature_group_name, \n",
    "    sagemaker_session=sagemaker_session\n",
    ")\n",
    "\n",
    "# Load the feature definitions from your DataFrame\n",
    "# This automatically infers the name and type for each feature column\n",
    "feature_group.load_feature_definitions(data_frame=df_final_features)\n",
    "\n",
    "print(\"\\nCreating Feature Group in the SageMaker backend...\")\n",
    "# This command creates the Feature Group in AWS. \n",
    "# This process can take several minutes.\n",
    "feature_group.create(\n",
    "    s3_uri=f\"s3://{bucket}/{project_prefix}/feature-store-offline\",\n",
    "    record_identifier_name=\"record_id\",\n",
    "    event_time_feature_name=\"event_time\",\n",
    "    role_arn=role,\n",
    "    enable_online_store=True # Enable for low-latency, real-time lookups\n",
    ")\n",
    "\n",
    "# --- Wait for Feature Group to be Created ---\n",
    "print(\"\\nWaiting for Feature Group to be created (this may take 5-10 minutes)...\")\n",
    "while True:\n",
    "    status = feature_group.describe().get(\"FeatureGroupStatus\")\n",
    "    if status == \"Created\":\n",
    "        print(\"✅ Feature Group created successfully.\")\n",
    "        break\n",
    "    if status == \"CreateFailed\":\n",
    "        print(\"❌ Feature Group creation failed.\")\n",
    "        print(feature_group.describe().get(\"FailureReason\"))\n",
    "        break\n",
    "    print(\".\", end=\"\")\n",
    "    time.sleep(5)"
   ]
  },
  {
   "cell_type": "code",
   "execution_count": 46,
   "id": "6680527d-c90a-4d18-b46d-4b357a4ca3b6",
   "metadata": {
    "execution": {
     "iopub.execute_input": "2025-06-23T23:38:49.297739Z",
     "iopub.status.busy": "2025-06-23T23:38:49.297425Z",
     "iopub.status.idle": "2025-06-23T23:38:54.942151Z",
     "shell.execute_reply": "2025-06-23T23:38:54.941130Z",
     "shell.execute_reply.started": "2025-06-23T23:38:49.297717Z"
    }
   },
   "outputs": [
    {
     "name": "stdout",
     "output_type": "stream",
     "text": [
      "Starting to ingest data into the Feature Group...\n",
      "\n",
      "✅ Data ingestion complete!\n"
     ]
    }
   ],
   "source": [
    "print(\"Starting to ingest data into the Feature Group...\")\n",
    "# This can take a few minutes as it may run a small processing job in the background.\n",
    "feature_group.ingest(\n",
    "    data_frame=df_final_features, \n",
    "    max_workers=4,  # You can adjust the number of parallel workers\n",
    "    wait=True\n",
    ")\n",
    "print(\"\\n✅ Data ingestion complete!\")"
   ]
  },
  {
   "cell_type": "code",
   "execution_count": null,
   "id": "ee557f2a-5413-4f02-a262-d96a1ae37adb",
   "metadata": {},
   "outputs": [],
   "source": [
    "# To recap:\n",
    "# Established a raw data lake in Amazon S3.\n",
    "# Cataloged data with AWS Glue and queried it with Amazon Athena.\n",
    "# Performed a full suite of EDA, data cleaning, and advanced feature engineering.\n",
    "# Stored the final, machine-learning-ready features in a SageMaker Feature Store.\n",
    "# Crime data is now managed, versioned, and reusable."
   ]
  },
  {
   "cell_type": "code",
   "execution_count": 51,
   "id": "0ef21983-f84b-4f97-9a46-4199a48f12e1",
   "metadata": {
    "execution": {
     "iopub.execute_input": "2025-06-23T23:48:25.701617Z",
     "iopub.status.busy": "2025-06-23T23:48:25.700566Z",
     "iopub.status.idle": "2025-06-23T23:48:25.706986Z",
     "shell.execute_reply": "2025-06-23T23:48:25.706191Z",
     "shell.execute_reply.started": "2025-06-23T23:48:25.701581Z"
    }
   },
   "outputs": [
    {
     "name": "stdout",
     "output_type": "stream",
     "text": [
      "✅ Successfully connected to existing Feature Group: crime-prediction-datalake-feature-group\n"
     ]
    }
   ],
   "source": [
    "from sagemaker.feature_store.feature_group import FeatureGroup\n",
    "\n",
    "# The name of the Feature Group that already exists\n",
    "feature_group_name = \"crime-prediction-datalake-feature-group\"\n",
    "\n",
    "# Instantiate the FeatureGroup object by name to connect to the existing one\n",
    "feature_group = FeatureGroup(\n",
    "    name=feature_group_name, \n",
    "    sagemaker_session=sagemaker_session\n",
    ")\n",
    "\n",
    "print(f\"✅ Successfully connected to existing Feature Group: {feature_group.name}\")"
   ]
  },
  {
   "cell_type": "code",
   "execution_count": 46,
   "id": "31753091-21a0-4896-8712-881539e80259",
   "metadata": {
    "execution": {
     "iopub.execute_input": "2025-06-23T23:38:49.297739Z",
     "iopub.status.busy": "2025-06-23T23:38:49.297425Z",
     "iopub.status.idle": "2025-06-23T23:38:54.942151Z",
     "shell.execute_reply": "2025-06-23T23:38:54.941130Z",
     "shell.execute_reply.started": "2025-06-23T23:38:49.297717Z"
    }
   },
   "outputs": [
    {
     "name": "stdout",
     "output_type": "stream",
     "text": [
      "Starting to ingest data into the Feature Group...\n",
      "\n",
      "✅ Data ingestion complete!\n"
     ]
    }
   ],
   "source": [
    "print(\"Starting to ingest data into the Feature Group...\")\n",
    "# This can take a few minutes as it may run a small processing job in the background.\n",
    "feature_group.ingest(\n",
    "    data_frame=df_final_features, \n",
    "    max_workers=4,  # You can adjust the number of parallel workers\n",
    "    wait=True\n",
    ")\n",
    "print(\"\\n✅ Data ingestion complete!\")"
   ]
  },
  {
   "cell_type": "code",
   "execution_count": null,
   "id": "d38b89f9-3ffa-4716-90fa-06f59d826239",
   "metadata": {},
   "outputs": [],
   "source": []
  }
 ],
 "metadata": {
  "kernelspec": {
   "display_name": "Python 3 (ipykernel)",
   "language": "python",
   "name": "python3"
  },
  "language_info": {
   "codemirror_mode": {
    "name": "ipython",
    "version": 3
   },
   "file_extension": ".py",
   "mimetype": "text/x-python",
   "name": "python",
   "nbconvert_exporter": "python",
   "pygments_lexer": "ipython3",
   "version": "3.12.9"
  }
 },
 "nbformat": 4,
 "nbformat_minor": 5
}
